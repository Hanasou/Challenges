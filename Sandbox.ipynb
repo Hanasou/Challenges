{
 "cells": [
  {
   "cell_type": "code",
   "execution_count": 20,
   "metadata": {},
   "outputs": [
    {
     "data": {
      "text/plain": [
       "'bab'"
      ]
     },
     "execution_count": 20,
     "metadata": {},
     "output_type": "execute_result"
    }
   ],
   "source": [
    "# longest palindromic substring\n",
    "# Given a string s, find the longest palindromic substring in s. You may assume that the maximum length of s is 1000.\n",
    "# e.g: Input: \"babad\". Output: \"bab\". \"aba\" is also valid\n",
    "def longestPalindrome(s):\n",
    "    valid_pals = []\n",
    "    current_pal = ''\n",
    "    \n",
    "    for i in range(0,len(s)):\n",
    "        for j in range(i, len(s)):\n",
    "            current_pal += s[j]\n",
    "            if current_pal == current_pal[::-1]:\n",
    "                valid_pals.append(current_pal)\n",
    "            if j == len(s) - 1:\n",
    "                current_pal = ''\n",
    "    \n",
    "    return max(valid_pals, key = len)\n",
    "longestPalindrome('babad')"
   ]
  },
  {
   "cell_type": "code",
   "execution_count": 24,
   "metadata": {},
   "outputs": [
    {
     "data": {
      "text/plain": [
       "49"
      ]
     },
     "execution_count": 24,
     "metadata": {},
     "output_type": "execute_result"
    }
   ],
   "source": [
    "# Find the max two dimensional area given a list of numbers.\n",
    "# Area is x * y. x = distance between two numbers. y = min(n1,n2), n1 and n2 are two numbers from the list.\n",
    "def max_area(height):\n",
    "    areas = []\n",
    "    \n",
    "    for i in range(0, len(height)):\n",
    "        for j in range(i, len(height)):\n",
    "            x = j - i\n",
    "            y = min((height[i], height[j]))\n",
    "            areas.append(x * y)\n",
    "    return max(areas)\n",
    "max_area([1,8,6,2,5,4,8,3,7])"
   ]
  },
  {
   "cell_type": "code",
   "execution_count": 5,
   "metadata": {},
   "outputs": [
    {
     "data": {
      "text/plain": [
       "[[-1, -1, 2],\n",
       " [-1, 0, 1],\n",
       " [-1, 2, -1],\n",
       " [0, 0, 0],\n",
       " [0, 1, -1],\n",
       " [2, 2, -4],\n",
       " [2, -1, -1]]"
      ]
     },
     "execution_count": 5,
     "metadata": {},
     "output_type": "execute_result"
    }
   ],
   "source": [
    "# 3sum. Given an array of n integers, find solution set of triplets where all three values sum to 0. Triplets must be unique.\n",
    "def three_sum(nums):\n",
    "    solutions = []\n",
    "    for i in range(0,len(nums)):\n",
    "        for j in range(i, len(nums)):\n",
    "            for k in range(j, len(nums)):\n",
    "                if (nums[i] + nums[j] + nums[k] == 0):\n",
    "                    sol = [nums[i], nums[j], nums[k]]\n",
    "                    solutions.append(sol)\n",
    "    return solutions\n",
    "three_sum([-1, 0, 1, 2, -1, -4])"
   ]
  },
  {
   "cell_type": "code",
   "execution_count": 3,
   "metadata": {},
   "outputs": [
    {
     "data": {
      "text/plain": [
       "True"
      ]
     },
     "execution_count": 3,
     "metadata": {},
     "output_type": "execute_result"
    }
   ],
   "source": [
    "{-1, -1, 2} == {-1, 2, -1}"
   ]
  },
  {
   "cell_type": "code",
   "execution_count": null,
   "metadata": {},
   "outputs": [],
   "source": []
  }
 ],
 "metadata": {
  "kernelspec": {
   "display_name": "Python 3",
   "language": "python",
   "name": "python3"
  },
  "language_info": {
   "codemirror_mode": {
    "name": "ipython",
    "version": 3
   },
   "file_extension": ".py",
   "mimetype": "text/x-python",
   "name": "python",
   "nbconvert_exporter": "python",
   "pygments_lexer": "ipython3",
   "version": "3.7.1"
  }
 },
 "nbformat": 4,
 "nbformat_minor": 2
}
