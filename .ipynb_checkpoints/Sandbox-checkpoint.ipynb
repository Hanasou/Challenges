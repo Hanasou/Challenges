{
 "cells": [
  {
   "cell_type": "code",
   "execution_count": 20,
   "metadata": {},
   "outputs": [
    {
     "data": {
      "text/plain": [
       "'bab'"
      ]
     },
     "execution_count": 20,
     "metadata": {},
     "output_type": "execute_result"
    }
   ],
   "source": [
    "# longest palindromic substring\n",
    "# Given a string s, find the longest palindromic substring in s. You may assume that the maximum length of s is 1000.\n",
    "# e.g: Input: \"babad\". Output: \"bab\". \"aba\" is also valid\n",
    "def longestPalindrome(s):\n",
    "    valid_pals = []\n",
    "    current_pal = ''\n",
    "    \n",
    "    for i in range(0,len(s)):\n",
    "        for j in range(i, len(s)):\n",
    "            current_pal += s[j]\n",
    "            if current_pal == current_pal[::-1]:\n",
    "                valid_pals.append(current_pal)\n",
    "            if j == len(s) - 1:\n",
    "                current_pal = ''\n",
    "    \n",
    "    return max(valid_pals, key = len)\n",
    "longestPalindrome('babad')"
   ]
  },
  {
   "cell_type": "code",
   "execution_count": 8,
   "metadata": {},
   "outputs": [],
   "source": [
    "# Find the max two dimensional area given a list of numbers.\n",
    "# Area is x * y. x = distance between two numbers. y = min(n1,n2), n1 and n2 are two numbers from the list.\n",
    "def maxArea(height) -> int:\n",
    "    areas = []\n",
    "    max_area = 0\n",
    "    for i in range(0, len(height)):\n",
    "        for j in range(i, len(height)):\n",
    "            x = j - i\n",
    "            y = min((height[i], height[j]))\n",
    "            max_area = max(x * y,max_area)\n",
    "    return max_area"
   ]
  },
  {
   "cell_type": "code",
   "execution_count": 127,
   "metadata": {},
   "outputs": [
    {
     "data": {
      "text/plain": [
       "[[-1, -1, 2], [-1, 0, 1]]"
      ]
     },
     "execution_count": 127,
     "metadata": {},
     "output_type": "execute_result"
    }
   ],
   "source": [
    "# 3sum. Given an array of n integers, find solution set of triplets where all three values sum to 0. Triplets must be unique.\n",
    "def three_sum(nums):\n",
    "    if len(nums) < 3:\n",
    "            return []\n",
    "        if nums == [0] * len(nums):\n",
    "            return [[0,0,0]]\n",
    "    solutions = []\n",
    "    nums.sort()\n",
    "    for i in range(0,len(nums)):\n",
    "        j = i + 1\n",
    "        k = len(nums) - 1\n",
    "        while j < k:\n",
    "            triple = (nums[i],nums[j],nums[k])\n",
    "            sol = sum(triple)\n",
    "            if (sol == 0):\n",
    "                solutions.append(triple)\n",
    "                j += 1\n",
    "            elif (sol > 0):\n",
    "                k -= 1\n",
    "            elif (sol < 0):\n",
    "                j += 1\n",
    "    new_solutions = [list(ele) for ele in list(set(solutions))]\n",
    "    return new_solutions\n",
    "solution = three_sum([-1,0,1,2,-1,-4])\n",
    "solution"
   ]
  },
  {
   "cell_type": "code",
   "execution_count": 17,
   "metadata": {},
   "outputs": [
    {
     "data": {
      "text/plain": [
       "2"
      ]
     },
     "execution_count": 17,
     "metadata": {},
     "output_type": "execute_result"
    }
   ],
   "source": [
    "# Given an array nums of n numbers, find the sum of 3 integers that sums closest to target. Return the sum of 3 integers.\n",
    "# Assume that each input has exactly one solution\n",
    "def threeSumClosest(nums, target):\n",
    "    if nums == [0] * len(nums):\n",
    "        return 0\n",
    "    solutions = []\n",
    "    nums.sort()\n",
    "    solution = float(\"inf\")\n",
    "    for i in range(0,len(nums)):\n",
    "        j = i + 1\n",
    "        k = len(nums) - 1\n",
    "        while j < k:\n",
    "            triple = (nums[i],nums[j],nums[k])\n",
    "            sol = sum(triple)\n",
    "            solutions.append(sol)\n",
    "            if (sol > target):\n",
    "                k -= 1\n",
    "            elif (sol < target):\n",
    "                j += 1\n",
    "            else:\n",
    "                return sol\n",
    "    min_val = float(\"inf\")\n",
    "    for n in solutions:\n",
    "        prev_min = min_val\n",
    "        min_val = min(min_val,abs(n - target))\n",
    "        if min_val != prev_min:\n",
    "            solution = n\n",
    "    return solution\n",
    "threeSumClosest([1,1,1,0],-100)"
   ]
  },
  {
   "cell_type": "code",
   "execution_count": 2,
   "metadata": {},
   "outputs": [],
   "source": [
    "# Definition for singly-linked list.\n",
    "class ListNode:\n",
    "    def __init__(self, x):\n",
    "        self.val = x\n",
    "        self.next = None"
   ]
  },
  {
   "cell_type": "code",
   "execution_count": 3,
   "metadata": {},
   "outputs": [],
   "source": [
    "# Add two numbers. Given two non-empty linked lists representing two non-negative integers. Digits are stored in\n",
    "# reverse order, each node contains a single digit. Add two numbers and return it as a linked list.\n",
    "# Example\n",
    "# Input: l1: (2 -> 4 -> 3) l2: (5 -> 6 -> 4)\n",
    "# Output: 7 -> 0 -> 8\n",
    "# Explanation: 342 + 465 = 807 (Lists represent numbers in reverse order.)\n",
    "def addTwoNumbers(l1, l2):\n",
    "    pass"
   ]
  },
  {
   "cell_type": "code",
   "execution_count": 4,
   "metadata": {},
   "outputs": [],
   "source": [
    "# Given a linked list, removed the nth node from the end of the list and return its head.\n",
    "# e.g head = 1 -> 2 -> 3 -> 4 -> 5, n = 2. The element that is 2nd from the end of the list is 4, so the list\n",
    "# becomes 1 -> 2 -> 3 -> 5.\n",
    "def removeNthFromEnd(head, n):\n",
    "    pass"
   ]
  },
  {
   "cell_type": "code",
   "execution_count": 5,
   "metadata": {},
   "outputs": [],
   "source": [
    "# Suppose a sorted array was rotated at some pivot unknown to you. e.g [0,1,2,4,5,6,7] might become [4,5,6,7,0,1,2].\n",
    "# Given a target value to search, if found in the array, return its index. If not, return -1.\n",
    "# Assume no duplicates exist in the array. Solution must be O(logn)\n",
    "# e.g. nums = [4,5,6,7,0,1,2], target = 0. Output = 4\n",
    "# e.g. nums = [4,5,6,7,0,1,2], target = 3. Output = -1\n",
    "def search(nums, target):\n",
    "    pass"
   ]
  },
  {
   "cell_type": "code",
   "execution_count": 2,
   "metadata": {},
   "outputs": [],
   "source": [
    "# Linked List implementation\n",
    "\n",
    "class Node():\n",
    "    def __init__(self, data):\n",
    "        self.data = data\n",
    "        self.next = None\n",
    "        self.prev = None\n",
    "\n",
    "\n",
    "class LinkedList():\n",
    "    def __init__(self, array = None):\n",
    "        self.head = None\n",
    "        self.tail = None\n",
    "    \n",
    "\n",
    "    def append(self, insert):\n",
    "        self.tail.next = insert\n",
    "        insert.prev = self.tail\n",
    "        self.tail = insert\n",
    "        pass\n",
    "\n",
    "sample = LinkedList()"
   ]
  },
  {
   "cell_type": "code",
   "execution_count": 23,
   "metadata": {},
   "outputs": [
    {
     "data": {
      "text/plain": [
       "True"
      ]
     },
     "execution_count": 23,
     "metadata": {},
     "output_type": "execute_result"
    }
   ],
   "source": [
    "def anagram(s1, s2):\n",
    "    s1, s2 = s1.lower().replace(' ', ''), s2.lower().replace(' ', '')\n",
    "    s1counts, s2counts = {}, {}\n",
    "    for c in s1:\n",
    "        if c in s1counts:\n",
    "            s1counts[c] += 1\n",
    "        else:\n",
    "            s1counts[c] = 1\n",
    "    for c in s2:\n",
    "        if c in s2counts:\n",
    "            s2counts[c] += 1\n",
    "        else:\n",
    "            s2counts[c] = 1\n",
    "    return s1counts == s2counts\n",
    "anagram('Clint eastwood', 'old West action')"
   ]
  },
  {
   "cell_type": "code",
   "execution_count": 25,
   "metadata": {},
   "outputs": [
    {
     "data": {
      "text/plain": [
       "[(1, 3), (2, 2), (2, 2), (2, 2)]"
      ]
     },
     "execution_count": 25,
     "metadata": {},
     "output_type": "execute_result"
    }
   ],
   "source": [
    "def pair_sum(arr, k):\n",
    "    pairs = []\n",
    "    for i in range(len(arr)):\n",
    "        for j in range(i+, len(arr)):\n",
    "            if arr[i] + arr[j] == k:\n",
    "                pairs.append((arr[i], arr[j]))\n",
    "    return pairs\n",
    "pair_sum([1,3,2,2], 4)"
   ]
  },
  {
   "cell_type": "code",
   "execution_count": null,
   "metadata": {},
   "outputs": [],
   "source": []
  }
 ],
 "metadata": {
  "kernelspec": {
   "display_name": "Python 3",
   "language": "python",
   "name": "python3"
  },
  "language_info": {
   "codemirror_mode": {
    "name": "ipython",
    "version": 3
   },
   "file_extension": ".py",
   "mimetype": "text/x-python",
   "name": "python",
   "nbconvert_exporter": "python",
   "pygments_lexer": "ipython3",
   "version": "3.7.4"
  }
 },
 "nbformat": 4,
 "nbformat_minor": 2
}
